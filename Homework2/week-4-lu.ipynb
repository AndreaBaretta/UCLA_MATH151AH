{
 "cells": [
  {
   "cell_type": "markdown",
   "id": "65dc10f4-f251-42e4-81aa-70fd8e173ccd",
   "metadata": {},
   "source": [
    "# LU and PLU factorization"
   ]
  },
  {
   "cell_type": "code",
   "execution_count": 1,
   "id": "5de5c272",
   "metadata": {},
   "outputs": [],
   "source": [
    "import numpy as np\n",
    "import scipy as sp"
   ]
  },
  {
   "cell_type": "markdown",
   "id": "a51a1f14-6f4f-463b-aafe-7f9de96d00e7",
   "metadata": {},
   "source": [
    "## LU factorization"
   ]
  },
  {
   "cell_type": "code",
   "execution_count": 2,
   "id": "aee54b82-3e31-41e5-adba-6d2a595237a6",
   "metadata": {},
   "outputs": [],
   "source": [
    "def lu(A):\n",
    "    \"\"\"Compute the LU factorization of a matrix A.\"\"\"\n",
    "    n = len(A)\n",
    "    L = np.identity(n)\n",
    "    U = np.copy(A)\n",
    "\n",
    "    for k in range(n-1):\n",
    "        for i in range(k+1, n):\n",
    "            L[i, k] = U[i, k] / U[k, k]\n",
    "            for j in range(k+1, n):\n",
    "                U[i, j] -= L[i, k] * U[k, j]\n",
    "    \n",
    "    return L, np.triu(U)"
   ]
  },
  {
   "cell_type": "markdown",
   "id": "566e68b7-f980-46e2-a3cd-f6f50351da54",
   "metadata": {},
   "source": [
    "**Example**\n",
    "\n",
    "$$A = \\begin{bmatrix} 2 & 1 & 1 & 0 \\\\ 4 & 3 & 3 & 1 \\\\ 8 & 7 & 9 & 5 \\\\ 6 & 7 & 9 & 8 \\end{bmatrix}.$$"
   ]
  },
  {
   "cell_type": "code",
   "execution_count": 3,
   "id": "ea1d0db8-d8a3-4d86-808b-e1a9129a2f7d",
   "metadata": {},
   "outputs": [
    {
     "name": "stdout",
     "output_type": "stream",
     "text": [
      "L = \n",
      "[[1. 0. 0. 0.]\n",
      " [2. 1. 0. 0.]\n",
      " [4. 3. 1. 0.]\n",
      " [3. 4. 1. 1.]]\n",
      "\n",
      "U = \n",
      "[[2 1 1 0]\n",
      " [0 1 1 1]\n",
      " [0 0 2 2]\n",
      " [0 0 0 2]]\n",
      "\n"
     ]
    }
   ],
   "source": [
    "A = np.array([[2, 1, 1, 0],\n",
    "              [4, 3, 3, 1],\n",
    "              [8, 7, 9, 5],\n",
    "              [6, 7, 9, 8]])\n",
    "\n",
    "L, U = lu(A)\n",
    "\n",
    "print(\"L = \\n{}\\n\".format(L))\n",
    "print(\"U = \\n{}\\n\".format(U))"
   ]
  },
  {
   "cell_type": "code",
   "execution_count": 4,
   "id": "8b8318c2-6169-4640-be91-dc164a0a2509",
   "metadata": {},
   "outputs": [
    {
     "name": "stdout",
     "output_type": "stream",
     "text": [
      "x_exact = \n",
      "[0.30197021 0.26671882 0.82932261 0.71022832]\n"
     ]
    }
   ],
   "source": [
    "x_exact = np.random.rand(4)\n",
    "b = A @ x_exact\n",
    "\n",
    "print(\"x_exact = \\n{}\".format(x_exact))"
   ]
  },
  {
   "cell_type": "code",
   "execution_count": 5,
   "id": "c358b570-4097-44f7-b1ee-3d25099fedcc",
   "metadata": {},
   "outputs": [
    {
     "name": "stdout",
     "output_type": "stream",
     "text": [
      "x = \n",
      "[0.30197021 0.26671882 0.82932261 0.71022832]\n"
     ]
    }
   ],
   "source": [
    "y = sp.linalg.solve_triangular(L, b, lower=True)\n",
    "x = sp.linalg.solve_triangular(U, y)\n",
    "\n",
    "print(\"x = \\n{}\".format(x_exact))"
   ]
  },
  {
   "cell_type": "markdown",
   "id": "3be5d696-44cb-4465-a375-e3c016ed50e8",
   "metadata": {},
   "source": [
    "## PLU factorization"
   ]
  },
  {
   "cell_type": "markdown",
   "id": "9995fbf8-57f5-4f00-80b7-9e2e44f671e2",
   "metadata": {},
   "source": [
    "**Example**\n",
    "\n",
    "$$A = \\begin{bmatrix} 0 & 0 & -1 & 1 \\\\ 1 & 1 & -1 & 2 \\\\ -1 & 1 & 2 & 0 \\\\ 1 & 2 & 0 & 2 \\end{bmatrix}.$$"
   ]
  },
  {
   "cell_type": "code",
   "execution_count": 6,
   "id": "017cfbd4-40c3-4554-a842-9804e3fc4528",
   "metadata": {},
   "outputs": [
    {
     "name": "stdout",
     "output_type": "stream",
     "text": [
      "P = \n",
      "[[0. 1. 0. 0.]\n",
      " [0. 0. 1. 0.]\n",
      " [1. 0. 0. 0.]\n",
      " [0. 0. 0. 1.]]\n",
      "\n",
      "L = \n",
      "[[ 1.   0.   0.   0. ]\n",
      " [-1.   1.   0.   0. ]\n",
      " [ 0.   0.   1.   0. ]\n",
      " [ 1.   0.5 -0.5  1. ]]\n",
      "\n",
      "U = \n",
      "[[ 1.   1.  -1.   2. ]\n",
      " [ 0.   2.   1.   2. ]\n",
      " [ 0.   0.  -1.   1. ]\n",
      " [ 0.   0.   0.  -0.5]]\n",
      "\n"
     ]
    }
   ],
   "source": [
    "A = np.array([[0, 0, -1, 1],\n",
    "              [1, 1, -1, 2],\n",
    "              [-1, 1, 2, 0],\n",
    "              [1, 2, 0, 2]])\n",
    "\n",
    "PT, L, U = sp.linalg.lu(A)\n",
    "P = PT.T\n",
    "\n",
    "print(\"P = \\n{}\\n\".format(P))\n",
    "print(\"L = \\n{}\\n\".format(L))\n",
    "print(\"U = \\n{}\\n\".format(U))"
   ]
  },
  {
   "cell_type": "code",
   "execution_count": 7,
   "id": "3c8e5870-fdef-40bb-ace1-f97423b5deab",
   "metadata": {},
   "outputs": [
    {
     "name": "stdout",
     "output_type": "stream",
     "text": [
      "L = \n",
      "[[ 1.   0.   0.   0. ]\n",
      " [-1.   1.   0.   0. ]\n",
      " [ 0.   0.   1.   0. ]\n",
      " [ 1.   0.5 -0.5  1. ]]\n",
      "\n",
      "U = \n",
      "[[ 1.   1.  -1.   2. ]\n",
      " [ 0.   2.   1.   2. ]\n",
      " [ 0.   0.  -1.   1. ]\n",
      " [ 0.   0.   0.  -0.5]]\n",
      "\n"
     ]
    }
   ],
   "source": [
    "L, U = lu(P @ A)\n",
    "\n",
    "print(\"L = \\n{}\\n\".format(L))\n",
    "print(\"U = \\n{}\\n\".format(U))"
   ]
  },
  {
   "cell_type": "code",
   "execution_count": 8,
   "id": "cdcef240-12d8-4c90-a2f7-b3a8dbad406d",
   "metadata": {},
   "outputs": [
    {
     "name": "stdout",
     "output_type": "stream",
     "text": [
      "x_exact = \n",
      "[0.34083438 0.35890783 0.17666278 0.02253948]\n"
     ]
    }
   ],
   "source": [
    "x_exact = np.random.rand(4)\n",
    "b = A @ x_exact\n",
    "\n",
    "print(\"x_exact = \\n{}\".format(x_exact))"
   ]
  },
  {
   "cell_type": "code",
   "execution_count": 9,
   "id": "5d31d4fe-cd78-4967-96bf-bc47ed7e7a31",
   "metadata": {},
   "outputs": [
    {
     "name": "stdout",
     "output_type": "stream",
     "text": [
      "x = \n",
      "[0.34083438 0.35890783 0.17666278 0.02253948]\n"
     ]
    }
   ],
   "source": [
    "y = sp.linalg.solve_triangular(L, P @ b, lower=True)\n",
    "x = sp.linalg.solve_triangular(U, y)\n",
    "\n",
    "print(\"x = \\n{}\".format(x_exact))"
   ]
  },
  {
   "cell_type": "markdown",
   "id": "980c0bde-5073-493a-b70e-23981129095a",
   "metadata": {},
   "source": [
    "### Space-efficient PLU factorization"
   ]
  },
  {
   "cell_type": "code",
   "execution_count": 10,
   "id": "02dd8b7f-a069-4c83-9a32-7d1db58cb8e9",
   "metadata": {},
   "outputs": [
    {
     "name": "stdout",
     "output_type": "stream",
     "text": [
      "Combined L and U: \n",
      "[[ 1.   1.  -1.   2. ]\n",
      " [-1.   2.   1.   2. ]\n",
      " [ 0.   0.  -1.   1. ]\n",
      " [ 1.   0.5 -0.5 -0.5]]\n",
      "\n",
      "Pivot (interchange) vector: \n",
      "[1 2 2 3]\n",
      "\n"
     ]
    }
   ],
   "source": [
    "LU, piv = sp.linalg.lu_factor(A)\n",
    "\n",
    "print(\"Combined L and U: \\n{}\\n\".format(LU))\n",
    "print(\"Pivot (interchange) vector: \\n{}\\n\".format(piv))"
   ]
  },
  {
   "cell_type": "code",
   "execution_count": 11,
   "id": "be9598e1-9149-44dc-b7ed-ee606001fd8c",
   "metadata": {},
   "outputs": [],
   "source": [
    "def pivot_to_permutation(piv):\n",
    "    perm = np.arange(len(piv))\n",
    "    \n",
    "    for i in range(len(piv)):\n",
    "        perm[i], perm[piv[i]] = perm[piv[i]], perm[i]\n",
    "        \n",
    "    return perm"
   ]
  },
  {
   "cell_type": "code",
   "execution_count": 12,
   "id": "0a207518-cb21-4c52-9899-7bf8e9f984b5",
   "metadata": {},
   "outputs": [
    {
     "name": "stdout",
     "output_type": "stream",
     "text": [
      "Permutation vector: \n",
      "[1 2 0 3]\n",
      "\n",
      "PA: \n",
      "[[ 1.  1. -1.  2.]\n",
      " [-1.  1.  2.  0.]\n",
      " [ 0.  0. -1.  1.]\n",
      " [ 1.  2.  0.  2.]]\n",
      "\n",
      "Permuted A: \n",
      "[[ 1  1 -1  2]\n",
      " [-1  1  2  0]\n",
      " [ 0  0 -1  1]\n",
      " [ 1  2  0  2]]\n",
      "\n"
     ]
    }
   ],
   "source": [
    "perm = pivot_to_permutation(piv)\n",
    "\n",
    "print(\"Permutation vector: \\n{}\\n\".format(perm))\n",
    "print(\"PA: \\n{}\\n\".format(P @ A))\n",
    "print(\"Permuted A: \\n{}\\n\".format(A[perm, :]))"
   ]
  }
 ],
 "metadata": {
  "@webio": {
   "lastCommId": null,
   "lastKernelId": null
  },
  "kernelspec": {
   "display_name": "Python 3 (ipykernel)",
   "language": "python",
   "name": "python3"
  },
  "language_info": {
   "codemirror_mode": {
    "name": "ipython",
    "version": 3
   },
   "file_extension": ".py",
   "mimetype": "text/x-python",
   "name": "python",
   "nbconvert_exporter": "python",
   "pygments_lexer": "ipython3",
   "version": "3.12.0"
  }
 },
 "nbformat": 4,
 "nbformat_minor": 5
}
