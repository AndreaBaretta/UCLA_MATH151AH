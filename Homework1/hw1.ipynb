{
 "cells": [
  {
   "cell_type": "markdown",
   "id": "e4fcdc6e",
   "metadata": {},
   "source": [
    "Andrea Baretta  \n",
    "Math 151AH  \n",
    "Prof. Zhou  \n",
    "1/28/2024  \n",
    "Homework 1"
   ]
  },
  {
   "cell_type": "markdown",
   "id": "ea36e63f",
   "metadata": {},
   "source": [
    "1. The exact value of $1 − cos(x)$ when $x = 10^{−3}$ is\n",
    "$$4.9999995833333472222219742063519620811078710385413014376488... × 10ˆ{-7}$$"
   ]
  },
  {
   "cell_type": "markdown",
   "id": "136edefd",
   "metadata": {},
   "source": [
    "1a. Using double precision in your programming language of choice, evaluate $1 − \\cos \\left(10^{−3}\\right)$ and determine the number of significant figures that are accurate."
   ]
  },
  {
   "cell_type": "code",
   "execution_count": 12,
   "id": "53d22291-2b36-4e03-a779-ebd486869ff9",
   "metadata": {},
   "outputs": [
    {
     "name": "stdout",
     "output_type": "stream",
     "text": [
      "4.999999583255033e-07\n"
     ]
    }
   ],
   "source": [
    "import numpy as np\n",
    "double_precision = 1 - np.cos(1e-3)\n",
    "print(double_precision)"
   ]
  },
  {
   "cell_type": "markdown",
   "id": "901d47b4",
   "metadata": {},
   "source": [
    "Compared to $$4.9999995833333472222219742063519620811078710385413014376488... × 10ˆ{-7}$$ it is accurate only to 4.999999583e-7, or 10 decimal places."
   ]
  },
  {
   "cell_type": "markdown",
   "id": "9b40f9fe",
   "metadata": {},
   "source": [
    "1b. Find a suitable trigonometric identity so that 1 − cos(x) can be accurately computed for |x| ≪ 1.\n",
    "Your answer should ensure that there is no subtraction of numbers that are close to each other."
   ]
  },
  {
   "cell_type": "markdown",
   "id": "1ab53c43",
   "metadata": {},
   "source": [
    "$$1-\\cos(x)=1-\\cos(x) \\cdot \\frac{1+\\cos(x)}{1+\\cos(x)}= \\frac{\\sin^2(x)}{1+\\cos(x)}$$"
   ]
  },
  {
   "cell_type": "markdown",
   "id": "9f57bd95",
   "metadata": {},
   "source": [
    "1c. Use your answer from (b) to compute $1 − \\cos(10^{−3})$ in double precision. How does it compare\n",
    "with the result from (a)?"
   ]
  },
  {
   "cell_type": "code",
   "execution_count": 13,
   "id": "0775d6ac",
   "metadata": {},
   "outputs": [
    {
     "name": "stdout",
     "output_type": "stream",
     "text": [
      "4.999999583333347e-07\n"
     ]
    }
   ],
   "source": [
    "better_precision = (np.sin(1e-3)**2)/(1+np.cos(1e-3))\n",
    "print(better_precision)"
   ]
  },
  {
   "cell_type": "markdown",
   "id": "7ce5d72c",
   "metadata": {},
   "source": [
    "Changing the formula to an equivalent form yielded substantially better results. Now, the final result is accurate to 16 decimal places, 6 more than before"
   ]
  },
  {
   "cell_type": "markdown",
   "id": "4adc4097",
   "metadata": {},
   "source": [
    "2. Let $fl(x)$ denote the floating point approximation of a number, and assume that machine precision $\\epsilon = 10^{−β}$ for some positive integer $\\beta$."
   ]
  },
  {
   "cell_type": "markdown",
   "id": "e9cabce7",
   "metadata": {},
   "source": [
    "2a. Consider evaluating the quantity $\\sin\\left(\\frac{\\pi}{2} + \\delta\\right)$ when $0 < \\delta ≪ 1$. Use a Taylor expansion to give an estimate for the largest $\\delta$ such that  \n",
    "fl$\\left(\\sin\\left(\\frac{\\pi}{2}\\right)\\right) =$ fl$\\left(\\sin\\left(\\frac{\\pi}{2} + \\delta\\right)\\right)$. (your answer should depend on $\\beta$)."
   ]
  },
  {
   "cell_type": "markdown",
   "id": "82198778",
   "metadata": {},
   "source": [
    "Since fl$\\left(\\sin\\left(\\frac{\\pi}{2} + \\delta\\right)\\right) =$ fl$\\left(\\cos\\left(\\delta\\right)\\right)$, consider the Taylor expansion of the cosine.\n",
    "$$\\cos(\\delta) = 1-\\frac{\\delta^2}{2!}+\\frac{\\delta^4}{4!}+...$$\n",
    "We want to ensure that all of the terms following the 1 end up evaluating to 0 in the floating point representation. Since the computer is accurate only to $\\beta$ decimal places, we could take $\\delta=10^{\\beta/2}$, since then $\\delta^2=10^{\\beta}=\\epsilon$. However, since that first term is divided by 2, we can double the size of $\\delta$. Then, a reasonable estimate of the largest $\\delta$ such that fl$\\left(\\sin\\left(\\frac{\\pi}{2}\\right)\\right) =$ fl$\\left(\\sin\\left(\\frac{\\pi}{2} + \\delta\\right)\\right)$ is $\\delta = 2\\cdot10^{-\\beta/2}$."
   ]
  },
  {
   "cell_type": "markdown",
   "id": "97687d63",
   "metadata": {},
   "source": [
    "2c. Using double precision and your programming language of choice, determine the greatest $\\delta$ for\n",
    "which fl$\\left(\\sin\\left(\\frac{\\pi}{2}\\right)\\right) =$ fl$\\left(\\sin\\left(\\frac{\\pi}{2} + \\delta\\right)\\right)$. (Your answer should be correct to 3 significant figures.)"
   ]
  },
  {
   "cell_type": "code",
   "execution_count": 18,
   "id": "9ab18bf9",
   "metadata": {},
   "outputs": [
    {
     "name": "stdout",
     "output_type": "stream",
     "text": [
      "1.0536712280462266e-08\n",
      "1.0\n"
     ]
    }
   ],
   "source": [
    "upper_bound = 1.0\n",
    "lower_bound = 0.0\n",
    "n = 1000\n",
    "for i in range(0, n):\n",
    "    mid = (upper_bound + lower_bound)/2.0\n",
    "    if np.sin(np.pi/2 + mid) == 1:\n",
    "        lower_bound = mid\n",
    "    else:\n",
    "        upper_bound = mid\n",
    "print(lower_bound)\n",
    "print(np.sin(np.pi/2 + lower_bound))"
   ]
  },
  {
   "cell_type": "markdown",
   "id": "af7c4322",
   "metadata": {},
   "source": [
    "Experimentally, increasing n beyond this point does not yield any different results. It is reasonable to believe, then, this algorithm has converged to the best possible value for $\\delta$, $1.0536712280462266\\cdot10^{-9}$."
   ]
  },
  {
   "cell_type": "code",
   "execution_count": null,
   "id": "06dcc0b0",
   "metadata": {},
   "outputs": [],
   "source": []
  }
 ],
 "metadata": {
  "kernelspec": {
   "display_name": "Python 3 (ipykernel)",
   "language": "python",
   "name": "python3"
  },
  "language_info": {
   "codemirror_mode": {
    "name": "ipython",
    "version": 3
   },
   "file_extension": ".py",
   "mimetype": "text/x-python",
   "name": "python",
   "nbconvert_exporter": "python",
   "pygments_lexer": "ipython3",
   "version": "3.12.0"
  }
 },
 "nbformat": 4,
 "nbformat_minor": 5
}
