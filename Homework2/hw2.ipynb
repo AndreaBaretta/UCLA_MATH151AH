{
 "cells": [
  {
   "cell_type": "markdown",
   "id": "0b5aec7b",
   "metadata": {},
   "source": [
    "1. Write code that implements LU decomposition. (You may use Lemma 3.7 in textbook to\n",
    "check whether a permutation matrix $P$ is needed.) Use it to solve the linear\n",
    "system $A\\boldsymbol{x} = \\boldsymbol{b}$ where:\n",
    "$$A=\n",
    "\\begin{bmatrix} 0.4218 & 0.6557 & 0.6787 & 0.6555 \\\\ 0.9157 & 0.0357 & 0.7577 &\n",
    "0.1712 \\\\ 0.7922 & 0.8491 & 0.7431 & 0.7060 \\\\ 0.9595 & 0.9340 & 0.3922 & 0.0318\n",
    "\\end{bmatrix} \\text{ and } \\boldsymbol{b} = \\begin{bmatrix} 0.2769 \\\\ 0.0462 \\\\ 0.0971 \\\\\n",
    "0.8235 \\end{bmatrix}.\n",
    "$$\n",
    "Include your code as part of your solution.\n",
    "(You cannot solve the equation directly. You must obtain the LU decomposition\n",
    "first.)\n",
    "Then, solve the linear system $A\\boldsymbol{x} = \\boldsymbol{b}'$ as efficiently as possible, where $A$\n",
    "is as above and\n",
    "$$\n",
    "\\boldsymbol{b}' =\n",
    "\\begin{bmatrix}\n",
    "4.3790 \\\\\n",
    "1.8519 \\\\\n",
    "5.7808 \\\\\n",
    "6.0217\n",
    "\\end{bmatrix}.\n",
    "$$"
   ]
  },
  {
   "cell_type": "code",
   "execution_count": 3,
   "id": "b227d51a",
   "metadata": {},
   "outputs": [],
   "source": [
    "import numpy as np\n",
    "import matplotlib.pyplot as plt\n",
    "import scipy"
   ]
  },
  {
   "cell_type": "code",
   "execution_count": 4,
   "id": "0b84478a",
   "metadata": {},
   "outputs": [],
   "source": [
    "def perm(n, i, j):\n",
    "    p = np.eye(n)\n",
    "    tmp = p[i].copy()\n",
    "    p[i] = p[j]\n",
    "    p[j] = tmp\n",
    "    return p"
   ]
  },
  {
   "cell_type": "code",
   "execution_count": 5,
   "id": "02f2add1",
   "metadata": {},
   "outputs": [],
   "source": [
    "def PLU(A):\n",
    "    assert A.shape[0] == A.shape[1]\n",
    "    n = len(A)\n",
    "    P = np.eye(n)\n",
    "    L = np.eye(n)\n",
    "    U = A\n",
    "    i = 0\n",
    "    while i < n-1:\n",
    "        # Swap so largest pivot is on the diagonal\n",
    "        new_index = i\n",
    "        for j in range(i+1, n):\n",
    "            if U[j,i] > U[new_index,i]:\n",
    "                new_index = j\n",
    "        p = perm(n, i, new_index)\n",
    "        P = p@P\n",
    "        if i > 0:\n",
    "            for k in range(0, i):\n",
    "                tmp = L[i,k]\n",
    "                L[i,k] = L[new_index,k]\n",
    "                L[new_index,k] = tmp\n",
    "        U = p@U\n",
    "            \n",
    "        for j in range(i+1, n): #Regular LU code\n",
    "            m_ji = U[j,i]/U[i,i]\n",
    "            for k in range(i, n):\n",
    "                U[j,k] = U[j,k] - m_ji*U[i,k]\n",
    "            L[j,i] = m_ji\n",
    "        i += 1\n",
    "    return (P, L, U)\n",
    "            "
   ]
  },
  {
   "cell_type": "code",
   "execution_count": 6,
   "id": "4964c815",
   "metadata": {},
   "outputs": [],
   "source": [
    "A = np.array([[0.4218, 0.6557, 0.6787, 0.6555],\n",
    "              [0.9157, 0.0357, 0.7577, 0.1712],\n",
    "              [0.7922, 0.8491, 0.7431, 0.7060],\n",
    "              [0.9595, 0.9340, 0.3922, 0.0318]])\n",
    "\n",
    "b = np.array([0.2769, 0.0462, 0.0971, 0.8235])"
   ]
  },
  {
   "cell_type": "code",
   "execution_count": 7,
   "id": "33175d2d",
   "metadata": {},
   "outputs": [
    {
     "name": "stdout",
     "output_type": "stream",
     "text": [
      "[[0. 0. 0. 1.]\n",
      " [1. 0. 0. 0.]\n",
      " [0. 1. 0. 0.]\n",
      " [0. 0. 1. 0.]]\n",
      "[[ 1.          0.          0.          0.        ]\n",
      " [ 0.43960396  1.          0.          0.        ]\n",
      " [ 0.95435122 -3.49094035  1.          0.        ]\n",
      " [ 0.82563835  0.31803602  0.12007827  1.        ]]\n",
      "[[0.9595     0.934      0.3922     0.0318    ]\n",
      " [0.         0.2451099  0.50628733 0.64152059]\n",
      " [0.         0.         2.15082231 2.38036176]\n",
      " [0.         0.         0.         0.18988831]]\n"
     ]
    }
   ],
   "source": [
    "P, L, U = PLU(A)\n",
    "print(P)\n",
    "print(L)\n",
    "print(U)"
   ]
  },
  {
   "cell_type": "code",
   "execution_count": 8,
   "id": "b5993257",
   "metadata": {},
   "outputs": [],
   "source": [
    "def solvePLU(A, b):\n",
    "    P, L, U = PLU(A)\n",
    "    y = scipy.linalg.solve_triangular(L, P@b, lower=True)\n",
    "    return scipy.linalg.solve_triangular(U, y, lower=False)"
   ]
  },
  {
   "cell_type": "code",
   "execution_count": 9,
   "id": "2eed3785",
   "metadata": {},
   "outputs": [
    {
     "name": "stdout",
     "output_type": "stream",
     "text": [
      "[-1.26040472  1.40084283  2.03133593 -2.27103223]\n",
      "True\n"
     ]
    }
   ],
   "source": [
    "# Solve the first system\n",
    "x = solvePLU(A, b)\n",
    "print(x)\n",
    "# Check correctness\n",
    "print((np.abs(A@x - b) < 1e-15).all())"
   ]
  },
  {
   "cell_type": "code",
   "execution_count": 10,
   "id": "d26fc152",
   "metadata": {},
   "outputs": [
    {
     "name": "stdout",
     "output_type": "stream",
     "text": [
      "[1.00000000e+00 5.00000000e+00 1.00000000e+00 4.67737279e-15]\n",
      "True\n"
     ]
    }
   ],
   "source": [
    "# Solve the second system\n",
    "b_prime = np.array([4.3790, 1.8519, 5.7808, 6.0217])\n",
    "x_prime = solvePLU(A, b_prime)\n",
    "print(x_prime)\n",
    "# Check correctness\n",
    "print((np.abs(A@x_prime - b_prime) < 1e-15).all())"
   ]
  },
  {
   "cell_type": "markdown",
   "id": "a51c6da5",
   "metadata": {},
   "source": [
    "Then, the solution to $A\\boldsymbol{x}=\\boldsymbol{b}$ is\n",
    "$$\n",
    "x = \\begin{bmatrix}\n",
    "-1.26040472\\\\1.40084283\\\\2.03133593\\\\-2.27103223\n",
    "\\end{bmatrix}\n",
    "$$\n",
    "and the solution to $A\\boldsymbol{x}'=\\boldsymbol{b}'$ is\n",
    "$$\n",
    "x' = \\begin{bmatrix}\n",
    "1\\\\5\\\\1\\\\0\n",
    "\\end{bmatrix}\n",
    "$$"
   ]
  },
  {
   "cell_type": "markdown",
   "id": "477d16a2",
   "metadata": {},
   "source": [
    "2. Let $\\mathcal{P}_{n}$ denote the vector space of all polynomials of degree $n$ or\n",
    "less. Show that the derivative operator, $\\frac{d}{dx}$, is a well-defined linear\n",
    "operator from $\\mathcal{P}_{n}$ to itself. Compute a matrix representation for this\n",
    "operator in the basis given by monomials (${i.e.}$ $\\{1,x,x^{2},\\ldots, x^{n}\\}\n",
    "$). What are the eigenvalues of this operator?"
   ]
  },
  {
   "cell_type": "markdown",
   "id": "fc1fea04",
   "metadata": {},
   "source": [
    "Let $\\mathcal{B} = \\{1, x, x^2,...,x^n\\}$ be the standard basis for $\\mathcal{P}_n$. Then,\n",
    "$$\n",
    "\\begin{align}\n",
    "\\frac{d}{dx}(1) &= 0\\\\\n",
    "\\frac{d}{dx}(x) &= 1\\\\\n",
    "\\frac{d}{dx}(x^2) &= 2x\\\\\n",
    "&...\\\\\n",
    "\\frac{d}{dx}(x^n) &= nx^{n-1}\n",
    "\\end{align}\n",
    "$$\n",
    "Then,\n",
    "$$\n",
    "\\begin{align}\n",
    "\\left[\\frac{d}{dx}\\right]_\\mathcal{B}^\\mathcal{B} = \n",
    "\\begin{bmatrix}\n",
    "0 & 1 & 0 & \\cdots & 0\\\\\n",
    "0 & 0 & 2 & \\cdots & 0\\\\\n",
    "\\vdots & \\vdots & \\vdots & \\ddots & \\vdots\\\\\n",
    "0 & 0 & 0 & \\cdots & n\n",
    "\\end{bmatrix}\n",
    "\\end{align}\n",
    "$$\n",
    "Since $\\left[\\frac{d}{dx}\\right]_\\mathcal{B}^\\mathcal{B}$ is upper triangular, its eigenvalues are on the diagonal. Since every diagonal element is 0, the only unique eigenvalue of $\\frac{d}{dx}$ is 0."
   ]
  },
  {
   "cell_type": "markdown",
   "id": "09325139",
   "metadata": {},
   "source": [
    "3. Some facts about special matrixes  \n",
    "a. Suppose that $D$ is a diagonal $n\\times n$ matrix.\n",
    "Show that $||D||_{\\infty} = \\max_{1 \\le i \\le n} |D_{ii}| $.  \n",
    "b. Let $U$ be a unitary matrix $n\\times n$ matrix (this means that $U^{-1}$ equals the\n",
    "conjugate transpose $U^{\\ast}$). Show $||U||_2=1$.  \n",
    "c. Let $A$ be a Hermitian matrix (so that $A = A^{\\ast}$). Prove that $A$ is\n",
    "unitarily equivalent to a diagonal matrix."
   ]
  },
  {
   "cell_type": "markdown",
   "id": "15072c93",
   "metadata": {},
   "source": [
    "a. \n",
    "$$\n",
    "\\begin{align}\n",
    "\\max_{1 \\le i \\le n} |D_{ii}| &= \\frac{\\max_{1 \\le i \\le n} |D_{ii}|}{||\\begin{bmatrix}1 & \\cdots & 1\\end{bmatrix}^T||_\\infty}\\\\\n",
    "&= \\frac{||\\begin{bmatrix}D_{11} & \\cdots & D_{nn}\\end{bmatrix}^T||_\\infty}{||\\begin{bmatrix}1 & \\cdots & 1\\end{bmatrix}^T||_\\infty}\\\\\n",
    "&= \\frac{||D\\begin{bmatrix}1 & \\cdots & 1\\end{bmatrix}^T||_\\infty}{||\\begin{bmatrix}1 & \\cdots & 1\\end{bmatrix}^T||_\\infty}\\\\\n",
    "&\\le \\sup_{v\\in V, v\\neq0} \\frac{||Dv||_\\infty}{||v||_\\infty} = ||D||_\\infty\n",
    "\\end{align}\n",
    "$$\n",
    "However, for any $v\\in V, v\\neq 0$,\n",
    "$$\n",
    "\\begin{align}\n",
    "\\frac{||Dv||_\\infty}{||v||_\\infty} &= \\frac{\\max_{1\\leq i\\leq n} |D_{ii} v_i|}{\\max_{1\\leq i\\leq n} |v_i|}\\\\\n",
    "\\end{align}\n",
    "$$\n",
    "Then for some $q\\in\\mathbb{N}, 1\\leq q \\leq n$,\n",
    "$$\n",
    "\\begin{align}\n",
    "\\frac{||Dv||_\\infty}{||v||_\\infty} &= \\frac{|D_{qq} v_q|}{\\max_{1\\leq i\\leq n} |v_i|}\\\\\n",
    "&= |D_{qq}|\\frac{|v_q|}{\\max_{1\\leq i\\leq n} |v_i|}\\\\\n",
    "&\\leq \\max_{1\\leq i\\leq n} |D_{ii}| \\cdot 1\\\\\n",
    "&\\leq \\max_{1\\leq i\\leq n} |D_{ii}|\n",
    "\\end{align}\n",
    "$$\n",
    "Then\n",
    "$$\n",
    "\\begin{align}\n",
    "||D||_\\infty = \\sup_{v\\in V,v\\neq0} \\frac{||Dv||_\\infty}{||v||_\\infty} \\leq\\max_{1 \\le i \\le n} |D_{ii}|\n",
    "\\end{align}\n",
    "$$\n",
    "Then $\\max_{1 \\le i \\le n} |D_{ii}| = ||D||_\\infty$.  \n",
    "b.\n",
    "$$\n",
    "\\begin{align}\n",
    "||U||_2 &= \\sup_{v\\in\\infty, v\\neq0} \\frac{||Uv||_2}{||v||_2}\\\\\n",
    "&= \\sup_{v\\in\\infty,v\\neq0} \\frac{\\sqrt{\\left<Uv, Uv\\right>}}{\\sqrt{\\left<v,v\\right>}}\\\\\n",
    "&= \\sup_{v\\in\\infty,v\\neq0} \\frac{\\sqrt{\\left<v, U^\\ast Uv\\right>}}{\\sqrt{\\left<v,v\\right>}}\\\\\n",
    "&= \\sup_{v\\in\\infty,v\\neq0} \\frac{\\sqrt{\\left<v, v\\right>}}{\\sqrt{\\left<v,v\\right>}} = 1\n",
    "\\end{align}\n",
    "$$  \n",
    "c. Let $A = A^\\ast$. If $A \\in \\mathbb{C}^{n \\times n}$, the characteristic polynomial of A splits  by the fundamental theorem of algebra, so we can use Schur Decomposition. If $A \\in \\mathbb{R}^{n \\times n}$, its characteristic polynomial may not split. We wish to prove that it does, and in the reals. Expand the field of scalars available to us to include the complex numbers. Then $A$'s characteristic polynomial splits, but over the complex numbers. Let $v, \\lambda$ be an eigenvector-eigenvalue pair for $A$, where $\\lambda \\in \\mathbb{C}$. Then\n",
    "$Av = \\lambda v$, so\n",
    "$$\n",
    "\\begin{align}\n",
    "Av - \\lambda v &= 0\\\\\n",
    "(A-\\lambda I)v &= 0\\\\\n",
    "\\end{align}\n",
    "$$\n",
    "It is useful to prove that $A-\\lambda I$ commutes with its adjoint. By the self adjointedness of A,\n",
    "$$\n",
    "\\begin{align}\n",
    "(A-\\lambda I)(A-\\lambda I)* &= (A-\\lambda I)(A-\\lambda I)^\\ast\\\\\n",
    "&= (A-\\lambda I)(A^\\ast-\\bar{\\lambda} I)\\\\\n",
    "&= AA^\\ast - A\\bar{\\lambda}I - \\lambda I A^\\ast + \\lambda I \\bar{\\lambda} I\\\\\n",
    "&= A^\\ast A - \\bar{\\lambda}IA - A^\\ast\\lambda I + \\bar{\\lambda} I \\lambda I\\\\\n",
    "&= (A^\\ast-\\bar{\\lambda} I)(A-\\lambda I)\\\\\n",
    "&= (A-\\lambda I)^\\ast(A-\\lambda I)\n",
    "\\end{align}\n",
    "$$\n",
    "Then\n",
    "$$\n",
    "\\begin{align}\n",
    "0 &= ||(A-\\lambda I)v||\\\\\n",
    "&=\\sqrt{|<(A-\\lambda I)v,(A-\\lambda I)v>|}\\\\\n",
    "&=\\sqrt{|<v,(A-\\lambda I)^\\ast(A-\\lambda I)v>|}\\\\\n",
    "&=\\sqrt{|<v,(A-\\lambda I)(A-\\lambda I)^\\ast v>|}0\\\\\n",
    "&=\\sqrt{|<(A-\\lambda I)^\\ast v,(A-\\lambda I)^\\ast v>|}\\\\\n",
    "&=||(A-\\lambda I)^\\ast v||\\\\\n",
    "&=||(A^\\ast-\\bar{\\lambda} I) v||\n",
    "\\end{align}\n",
    "$$\n",
    "Then\n",
    "$$\n",
    "(A^\\ast-\\bar{\\lambda}I)v = 0\n",
    "$$\n",
    "So $v$ is an eigenvector of $A^\\ast$ with eigenvalue $\\bar{\\lambda}$. However, since $A = A^\\ast$, $\\lambda = \\bar{\\lambda}$. Then each of the complex roots of $A$'s characteristic polynomial is actually real, so $A$'s characteristic polynomial splits over the reals. Then we can use Schur's Decomposition even when $A$ is a real matrix.  \n",
    "By Schur's, there exists an upper triangular matrix $T$ and a unitary $Q$ such that $T = QAQ^\\ast$. Then\n",
    "$$\n",
    "\\overline{T^T}= T^\\ast = Q^{\\ast \\ast}A^\\ast Q^\\ast = QAQ^\\ast = T\n",
    "$$\n",
    "Since $T$ is upper triangular, and it is equal to its conjugate transpose, $T$ must be diagonal. Further, $T$'s elements must all be real. Therefore, $A = Q^\\ast T Q$, so A is unitarily equivalent to a diagonal matrix. "
   ]
  },
  {
   "cell_type": "markdown",
   "id": "73bba6b3",
   "metadata": {},
   "source": [
    "4. Write code that implements the following algorithms for solving linear systems\n",
    "iteratively: Jacobi's method, the Gauss-Seidel method and the Successive Over\n",
    "Relaxation method.\n",
    "a. Use all three to solve the linear system $A\\boldsymbol{x}^{\\star} = \\boldsymbol{b}$ where $A$ and\n",
    "$\\boldsymbol{b}$ are given below.\n",
    "$$\n",
    "\\begin{align}\n",
    "A = \\begin{bmatrix} 2.4117 & 0.6557 & 0.6787 & 0.6555 \\\\ 0.9157 & 1.8804 & 0.7577 &\n",
    "0.1712 \\\\ 0.7922 & 0.8491 & 3.0905 & 0.7060 \\\\ 0.9595 & 0.9340 & 0.3922 & 2.3175 \n",
    "\\end{bmatrix} \\quad \\boldsymbol{b} = \\begin{bmatrix} 8.3813 \\\\ 7.6345 \\\\ 14.5862 \\\\ 13.2743\n",
    "\\end{bmatrix}\n",
    "\\end{align}\n",
    "$$\n",
    "Make a plot of the $logarithm$ of the errors, $\\log\\left(\\|\\boldsymbol{x}_{k} - \\boldsymbol{x}^{\\\n",
    "star}\\|_{2}\\right)$ ($you$ $may$ $use$ $the$ $fact$ $\\boldsymbol{x}^{\\star} = \\begin{bmatrix} 1\n",
    "& 2 & 3 & 4 \\end{bmatrix}^{\\top}$) against the number of iterations (for all three\n",
    "methods).  \n",
    "b. Experiment with $\\omega = -1,0,1,2,3$ in the SOR method. Are there any values\n",
    "for which the method doesn't converge?"
   ]
  },
  {
   "cell_type": "code",
   "execution_count": 98,
   "id": "aa08d94d",
   "metadata": {},
   "outputs": [],
   "source": [
    "def jacobi(A, b, iters, x0=None): # Mine\n",
    "    if (x0 == None):\n",
    "        x0 = np.zeros((A.shape[1]))\n",
    "    x = x0\n",
    "    iterations = [x0.copy()]\n",
    "    D = np.diag(A)\n",
    "    for i in range(1, iters):\n",
    "        x += (b-A@x)/D\n",
    "        iterations.append(x.copy())\n",
    "    return iterations\n",
    "\n",
    "def gauss_siedel(A, b, iters, x0=None): # Mine\n",
    "    if (x0 == None):\n",
    "        x0 = np.zeros((A.shape[1]))\n",
    "    x = x0\n",
    "    iterations = [x0.copy()]\n",
    "    # x^{(k+1)} = x^{(k)} + (L + D)^{-1} r^{(k)}\n",
    "    ld = np.tril(A, k=-1) + np.diag(np.diag(A))\n",
    "    U = A - ld\n",
    "    for i in range(1, iters):\n",
    "        dx = scipy.linalg.solve_triangular(ld, b - A@x, lower=True)\n",
    "        x += dx\n",
    "        # dx = scipy.linalg.solve_triangular(ld, b - U@x, lower=True)\n",
    "        iterations.append(x.copy())\n",
    "    return iterations\n",
    "\n",
    "def sor(A, b, iters, w, x0=None): # Mine\n",
    "    if (x0 == None):\n",
    "        x0 = np.zeros((A.shape[1]))\n",
    "    x = x0\n",
    "    if w == 0:\n",
    "        return [x for i in range(0, iters)]\n",
    "    iterations = [x0.copy()]\n",
    "    # x^{(k+1)} = x^{(k)} + (L + D)^{-1} r^{(k)}\n",
    "    ld = np.tril(A, k=-1) + (1.0/w)*np.diag(np.diag(A))\n",
    "    U = A - ld\n",
    "    for i in range(1, iters):\n",
    "        dx = scipy.linalg.solve_triangular(ld, b - A@x, lower=True)\n",
    "        x += dx\n",
    "        # dx = scipy.linalg.solve_triangular(ld, b - U@x, lower=True)\n",
    "        iterations.append(x.copy())\n",
    "    return iterations\n",
    "\n",
    "def err(iterations, x_star):\n",
    "    return [np.log(np.linalg.norm(x - x_star)) for x in iterations]"
   ]
  },
  {
   "cell_type": "code",
   "execution_count": 99,
   "id": "2649870c",
   "metadata": {},
   "outputs": [],
   "source": [
    "A = np.array([[2.4117, 0.6557, 0.6787, 0.6555],\n",
    "              [0.9157, 1.8804, 0.7577, 0.1712],\n",
    "              [0.7922, 0.8491, 3.0905, 0.7060],\n",
    "              [0.9595, 0.9340, 0.3922, 2.3175]])\n",
    "b = np.array([8.3813, 7.6345, 14.5862, 13.2743])\n",
    "x_star = np.array([1,2,3,4])"
   ]
  },
  {
   "cell_type": "code",
   "execution_count": 118,
   "id": "55fad596",
   "metadata": {},
   "outputs": [
    {
     "data": {
      "text/plain": [
       "<matplotlib.legend.Legend at 0x7f030917ae70>"
      ]
     },
     "execution_count": 118,
     "metadata": {},
     "output_type": "execute_result"
    },
    {
     "data": {
      "image/png": "[encoded data removed]",
      "text/plain": [
       "<Figure size 640x480 with 1 Axes>"
      ]
     },
     "metadata": {},
     "output_type": "display_data"
    }
   ],
   "source": [
    "iters = 48\n",
    "plt.title(\"Convergence of iterative methods\")\n",
    "plt.plot(np.arange(iters), err(jacobi(A, b, iters), x_star), label=\"Jacobi's\")\n",
    "plt.plot(np.arange(iters), err(gauss_siedel(A, b, iters), x_star), label=\"Gauss-Siedel\")\n",
    "# plt.plot(np.arange(iters), err(g_s(A, b, iters), x_star), label=\"G-S\")\n",
    "\n",
    "plt.plot(np.arange(iters), err(sor(A, b, iters, 1.1), x_star), label=\"SOR with w=1.1\")\n",
    "plt.legend()"
   ]
  },
  {
   "cell_type": "code",
   "execution_count": 119,
   "id": "99bc98b0",
   "metadata": {},
   "outputs": [
    {
     "data": {
      "text/plain": [
       "<matplotlib.legend.Legend at 0x7f03091999a0>"
      ]
     },
     "execution_count": 119,
     "metadata": {},
     "output_type": "execute_result"
    },
    {
     "data": {
      "image/png": "[encoded data removed]",
      "text/plain": [
       "<Figure size 640x480 with 1 Axes>"
      ]
     },
     "metadata": {},
     "output_type": "display_data"
    }
   ],
   "source": [
    "plt.title(\"Convergence of SOR\")\n",
    "for w in [-1,0,1,2,3]:\n",
    "    plt.plot(np.arange(iters), err(sor(A, b, iters, w), x_star), label=f\"w={w}\")\n",
    "plt.legend()"
   ]
  },
  {
   "cell_type": "markdown",
   "id": "92a5cc1e",
   "metadata": {},
   "source": [
    "It seems that SOR does not converge for $w=-1, 0, 2$, and 3. It only converges for $w = 1\\in(0,2)$, as expected by theoretical results we showed in class."
   ]
  }
 ],
 "metadata": {
  "kernelspec": {
   "display_name": "Python 3 (ipykernel)",
   "language": "python",
   "name": "python3"
  },
  "language_info": {
   "codemirror_mode": {
    "name": "ipython",
    "version": 3
   },
   "file_extension": ".py",
   "mimetype": "text/x-python",
   "name": "python",
   "nbconvert_exporter": "python",
   "pygments_lexer": "ipython3",
   "version": "3.12.1"
  }
 },
 "nbformat": 4,
 "nbformat_minor": 5
}
