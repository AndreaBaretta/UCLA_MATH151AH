{
 "cells": [
  {
   "cell_type": "markdown",
   "id": "60ba2730-643b-4822-bcc6-39805a290bec",
   "metadata": {},
   "source": [
    "# Relaxation methods for linear systems"
   ]
  },
  {
   "cell_type": "code",
   "execution_count": 1,
   "id": "98f458f3",
   "metadata": {},
   "outputs": [],
   "source": [
    "import numpy as np\n",
    "from scipy.linalg import solve_triangular\n",
    "import matplotlib.pyplot as plt"
   ]
  },
  {
   "cell_type": "code",
   "execution_count": 2,
   "id": "47e9a78d",
   "metadata": {
    "scrolled": true
   },
   "outputs": [],
   "source": [
    "def jacobi(A, b, x_0, iters):\n",
    "    \"\"\"Perform iters iterations of the Jacobi method to solve\n",
    "    Ax = b, given an initial guess x_0, and return the iterates as a\n",
    "    list of vectors.\n",
    "    \"\"\"\n",
    "    x = x_0\n",
    "    iterates = [np.copy(x)]\n",
    "    \n",
    "    # Diagonal of A as a column vector\n",
    "    d = np.diag(A).reshape((len(A), 1))\n",
    "    \n",
    "    for k in range(1, iters+1):\n",
    "        r = b - A @ x\n",
    "        \n",
    "        # x^{(k+1)} = x^{(k)} + D^{-1} r^{(k)}\n",
    "        x += r / d\n",
    "        \n",
    "        iterates.append(np.copy(x))\n",
    "    \n",
    "    return iterates"
   ]
  },
  {
   "cell_type": "code",
   "execution_count": 3,
   "id": "7fba355c",
   "metadata": {
    "scrolled": true
   },
   "outputs": [],
   "source": [
    "def gauss_seidel(A, b, x_0, iters):\n",
    "    \"\"\"Perform iters iterations of the Gauss-Seidel method to solve \n",
    "    Ax = b, given an initial guess x_0, and return the iterates as a \n",
    "    list of vectors.\n",
    "    \"\"\"\n",
    "    x = x_0\n",
    "    iterates = [np.copy(x)]\n",
    "    \n",
    "    for k in range(1, iters+1):\n",
    "        r = b - A @ x\n",
    "        \n",
    "        # x^{(k+1)} = x^{(k)} + (L + D)^{-1} r^{(k)}\n",
    "        x += solve_triangular(A, r, lower=True)\n",
    "        \n",
    "        iterates.append(np.copy(x))\n",
    "    \n",
    "    return iterates"
   ]
  },
  {
   "cell_type": "markdown",
   "id": "0904baa4",
   "metadata": {},
   "source": [
    "**Example**\n",
    "\n",
    "$$A = \\begin{bmatrix} 2 & -1 \\\\ -1 & 2 \\end{bmatrix},\\quad b = A \\begin{bmatrix} 1 \\\\ 1 \\end{bmatrix}.$$"
   ]
  },
  {
   "cell_type": "code",
   "execution_count": 4,
   "id": "d4c9dd92",
   "metadata": {},
   "outputs": [],
   "source": [
    "A = np.array([[2, -1], \n",
    "              [-1, 2]])\n",
    "\n",
    "n = len(A)\n",
    "\n",
    "x_exact = np.array([[1], \n",
    "                    [1]])\n",
    "b = A @ x_exact"
   ]
  },
  {
   "cell_type": "markdown",
   "id": "f4160980",
   "metadata": {},
   "source": [
    "## Jacobi method"
   ]
  },
  {
   "cell_type": "code",
   "execution_count": 5,
   "id": "1fdbde14",
   "metadata": {},
   "outputs": [
    {
     "name": "stdout",
     "output_type": "stream",
     "text": [
      "Spectral radius of Jacobi iteration matrix: 0.5000\n"
     ]
    }
   ],
   "source": [
    "M = np.diag(np.diag(A))\n",
    "T = np.identity(n) - np.linalg.solve(M, A)\n",
    "\n",
    "spectral_radius = np.max(np.abs(np.linalg.eigvals(T)))\n",
    "\n",
    "print(\"Spectral radius of Jacobi iteration matrix: {:.4f}\".format(\n",
    "      spectral_radius))"
   ]
  },
  {
   "cell_type": "code",
   "execution_count": 6,
   "id": "170e149f",
   "metadata": {},
   "outputs": [
    {
     "name": "stdout",
     "output_type": "stream",
     "text": [
      "k =  1    Error: 7.07e-01    Rate: 0.5000\n",
      "k =  2    Error: 3.54e-01    Rate: 0.5000\n",
      "k =  3    Error: 1.77e-01    Rate: 0.5000\n",
      "k =  4    Error: 8.84e-02    Rate: 0.5000\n",
      "k =  5    Error: 4.42e-02    Rate: 0.5000\n",
      "k =  6    Error: 2.21e-02    Rate: 0.5000\n",
      "k =  7    Error: 1.10e-02    Rate: 0.5000\n",
      "k =  8    Error: 5.52e-03    Rate: 0.5000\n",
      "k =  9    Error: 2.76e-03    Rate: 0.5000\n",
      "k = 10    Error: 1.38e-03    Rate: 0.5000\n"
     ]
    }
   ],
   "source": [
    "x_0 = np.zeros((n, 1))\n",
    "iters = 10\n",
    "\n",
    "iterates = jacobi(A, b, x_0, iters)\n",
    "\n",
    "errors = np.zeros((iters+1, 1))\n",
    "errors[0] = np.linalg.norm(x_exact - iterates[0])\n",
    "\n",
    "for k in range(1, iters+1):\n",
    "    errors[k] = np.linalg.norm(x_exact - iterates[k])\n",
    "    \n",
    "    print(\"k = {:2d}    Error: {:.2e}    Rate: {:.4f}\".format(\n",
    "          k,\n",
    "          errors.item(k),\n",
    "          errors.item(k) / errors.item(k-1)))"
   ]
  },
  {
   "cell_type": "markdown",
   "id": "bd570a21",
   "metadata": {},
   "source": [
    "## Gauss–Seidel method"
   ]
  },
  {
   "cell_type": "code",
   "execution_count": 7,
   "id": "940f3a41",
   "metadata": {},
   "outputs": [
    {
     "name": "stdout",
     "output_type": "stream",
     "text": [
      "Spectral radius of Gauss–Seidel iteration matrix: 0.2500\n"
     ]
    }
   ],
   "source": [
    "M = np.tril(A)\n",
    "T = np.identity(n) - np.linalg.solve(M, A)\n",
    "\n",
    "spectral_radius = np.max(np.abs(np.linalg.eigvals(T)))\n",
    "\n",
    "print(\"Spectral radius of Gauss–Seidel iteration matrix: {:.4f}\".format(\n",
    "      spectral_radius))"
   ]
  },
  {
   "cell_type": "code",
   "execution_count": 8,
   "id": "2e6656ef",
   "metadata": {},
   "outputs": [
    {
     "name": "stdout",
     "output_type": "stream",
     "text": [
      "k =  1    Error: 5.59e-01    Rate: 0.3953\n",
      "k =  2    Error: 1.40e-01    Rate: 0.2500\n",
      "k =  3    Error: 3.49e-02    Rate: 0.2500\n",
      "k =  4    Error: 8.73e-03    Rate: 0.2500\n",
      "k =  5    Error: 2.18e-03    Rate: 0.2500\n",
      "k =  6    Error: 5.46e-04    Rate: 0.2500\n",
      "k =  7    Error: 1.36e-04    Rate: 0.2500\n",
      "k =  8    Error: 3.41e-05    Rate: 0.2500\n",
      "k =  9    Error: 8.53e-06    Rate: 0.2500\n",
      "k = 10    Error: 2.13e-06    Rate: 0.2500\n"
     ]
    }
   ],
   "source": [
    "x_0 = np.zeros((n, 1))\n",
    "iters = 10\n",
    "\n",
    "iterates = gauss_seidel(A, b, x_0, iters)\n",
    "\n",
    "errors = np.zeros((iters+1, 1))\n",
    "errors[0] = np.linalg.norm(x_exact - iterates[0])\n",
    "\n",
    "for k in range(1, iters+1):\n",
    "    errors[k] = np.linalg.norm(x_exact - iterates[k])\n",
    "    \n",
    "    print(\"k = {:2d}    Error: {:.2e}    Rate: {:.4f}\".format(\n",
    "          k,\n",
    "          errors.item(k),\n",
    "          errors.item(k) / errors.item(k-1)))"
   ]
  },
  {
   "cell_type": "markdown",
   "id": "feffc34c",
   "metadata": {},
   "source": [
    "## ω-Gauss–Seidel (SOR) method"
   ]
  },
  {
   "cell_type": "code",
   "execution_count": 9,
   "id": "9d41e710",
   "metadata": {},
   "outputs": [
    {
     "data": {
      "image/png": "[encoded data removed]",
      "text/plain": [
       "<Figure size 640x480 with 1 Axes>"
      ]
     },
     "metadata": {},
     "output_type": "display_data"
    }
   ],
   "source": [
    "omegas = np.arange(2**(-6), 2.25, 2**(-6))\n",
    "rhos = np.empty(len(omegas))\n",
    "\n",
    "for (i, omega) in enumerate(omegas):\n",
    "    M = (1 - omega) / omega * np.diag(np.diag(A)) + np.tril(A)\n",
    "    T = np.identity(n) - np.linalg.solve(M, A)\n",
    "    rhos[i] = np.max(np.abs(np.linalg.eigvals(T)))\n",
    "\n",
    "fig, ax = plt.subplots()\n",
    "\n",
    "ax.plot(omegas, rhos)\n",
    "ax.plot(omegas, np.ones(len(omegas)), '--')\n",
    "\n",
    "ax.set_xlim([0, 2.25])\n",
    "ax.set_ylim([0, plt.ylim()[1]])\n",
    "ax.grid(True)\n",
    "ax.set_xlabel(\"ω\")\n",
    "ax.set_ylabel(\"ρ(T)\");"
   ]
  },
  {
   "cell_type": "markdown",
   "id": "dd100c25",
   "metadata": {},
   "source": [
    "*Exercise:* what is the (exact) value of $\\omega$ that minimizes $\\rho(T)$ for this $A$?"
   ]
  },
  {
   "cell_type": "code",
   "execution_count": 10,
   "id": "348d1fcf-cd41-4def-84bc-b995296db221",
   "metadata": {},
   "outputs": [],
   "source": [
    "plt.show()  # Show figures when running as a Python script"
   ]
  }
 ],
 "metadata": {
  "@webio": {
   "lastCommId": null,
   "lastKernelId": null
  },
  "kernelspec": {
   "display_name": "Python 3 (ipykernel)",
   "language": "python",
   "name": "python3"
  },
  "language_info": {
   "codemirror_mode": {
    "name": "ipython",
    "version": 3
   },
   "file_extension": ".py",
   "mimetype": "text/x-python",
   "name": "python",
   "nbconvert_exporter": "python",
   "pygments_lexer": "ipython3",
   "version": "3.12.1"
  }
 },
 "nbformat": 4,
 "nbformat_minor": 5
}
