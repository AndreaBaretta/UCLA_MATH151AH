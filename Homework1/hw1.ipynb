{
 "cells": [
  {
   "cell_type": "markdown",
   "id": "e4fcdc6e",
   "metadata": {},
   "source": [
    "Andrea Baretta  \n",
    "Math 151AH  \n",
    "Prof. Zhou  \n",
    "1/28/2024  \n",
    "Homework 1"
   ]
  },
  {
   "cell_type": "markdown",
   "id": "ea36e63f",
   "metadata": {},
   "source": [
    "1. The exact value of $1 − cos(x)$ when $x = 10^{−3}$ is\n",
    "$$4.9999995833333472222219742063519620811078710385413014376488... × 10ˆ{-7}$$"
   ]
  },
  {
   "cell_type": "markdown",
   "id": "136edefd",
   "metadata": {},
   "source": [
    "1a. Using double precision in your programming language of choice, evaluate $1 − \\cos \\left(10^{−3}\\right)$ and determine the number of significant figures that are accurate."
   ]
  },
  {
   "cell_type": "code",
   "execution_count": 25,
   "id": "53d22291-2b36-4e03-a779-ebd486869ff9",
   "metadata": {},
   "outputs": [
    {
     "name": "stdout",
     "output_type": "stream",
     "text": [
      "4.999999583255033e-07\n"
     ]
    }
   ],
   "source": [
    "import numpy as np\n",
    "double_precision = 1 - np.cos(1e-3)\n",
    "print(double_precision)"
   ]
  },
  {
   "cell_type": "markdown",
   "id": "901d47b4",
   "metadata": {},
   "source": [
    "Compared to $$4.9999995833333472222219742063519620811078710385413014376488... × 10ˆ{-7}$$ it is accurate only to 4.999999583e-7, or 10 decimal places."
   ]
  },
  {
   "cell_type": "markdown",
   "id": "9b40f9fe",
   "metadata": {},
   "source": [
    "1b. Find a suitable trigonometric identity so that 1 − cos(x) can be accurately computed for |x| ≪ 1.\n",
    "Your answer should ensure that there is no subtraction of numbers that are close to each other."
   ]
  },
  {
   "cell_type": "markdown",
   "id": "1ab53c43",
   "metadata": {},
   "source": [
    "$$1-\\cos(x)=1-\\cos(x) \\cdot \\frac{1+\\cos(x)}{1+\\cos(x)}= \\frac{\\sin^2(x)}{1+\\cos(x)}$$"
   ]
  },
  {
   "cell_type": "markdown",
   "id": "9f57bd95",
   "metadata": {},
   "source": [
    "1c. Use your answer from (b) to compute $1 − \\cos(10^{−3})$ in double precision. How does it compare\n",
    "with the result from (a)?"
   ]
  },
  {
   "cell_type": "code",
   "execution_count": 26,
   "id": "0775d6ac",
   "metadata": {},
   "outputs": [
    {
     "name": "stdout",
     "output_type": "stream",
     "text": [
      "4.999999583333347e-07\n"
     ]
    }
   ],
   "source": [
    "better_precision = (np.sin(1e-3)**2)/(1+np.cos(1e-3))\n",
    "print(better_precision)"
   ]
  },
  {
   "cell_type": "markdown",
   "id": "7ce5d72c",
   "metadata": {},
   "source": [
    "Changing the formula to an equivalent form yielded substantially better results. Now, the final result is accurate to 16 decimal places, 6 more than before"
   ]
  },
  {
   "cell_type": "markdown",
   "id": "4adc4097",
   "metadata": {},
   "source": [
    "2. Let $fl(x)$ denote the floating point approximation of a number, and assume that machine precision $\\epsilon = 10^{−β}$ for some positive integer $\\beta$."
   ]
  },
  {
   "cell_type": "markdown",
   "id": "e9cabce7",
   "metadata": {},
   "source": [
    "2a. Consider evaluating the quantity $\\sin\\left(\\frac{\\pi}{2} + \\delta\\right)$ when $0 < \\delta ≪ 1$. Use a Taylor expansion to give an estimate for the largest $\\delta$ such that  \n",
    "fl$\\left(\\sin\\left(\\frac{\\pi}{2}\\right)\\right) =$ fl$\\left(\\sin\\left(\\frac{\\pi}{2} + \\delta\\right)\\right)$. (your answer should depend on $\\beta$)."
   ]
  },
  {
   "cell_type": "markdown",
   "id": "82198778",
   "metadata": {},
   "source": [
    "Since fl$\\left(\\sin\\left(\\frac{\\pi}{2} + \\delta\\right)\\right) =$ fl$\\left(\\cos\\left(\\delta\\right)\\right)$, consider the Taylor expansion of the cosine.\n",
    "$$\\cos(\\delta) = 1-\\frac{\\delta^2}{2!}+\\frac{\\delta^4}{4!}+...$$\n",
    "We want to ensure that all of the terms following the 1 end up evaluating to 0 in the floating point representation. Since the computer is accurate only to $\\beta$ decimal places, we could take $\\delta=10^{\\beta/2}$, since then $\\delta^2=10^{\\beta}=\\epsilon$. However, since that first term is divided by 2, we can double the size of $\\delta$. Then, a reasonable estimate of the largest $\\delta$ such that fl$\\left(\\sin\\left(\\frac{\\pi}{2}\\right)\\right) =$ fl$\\left(\\sin\\left(\\frac{\\pi}{2} + \\delta\\right)\\right)$ is $\\delta = 2\\cdot10^{-\\beta/2}$."
   ]
  },
  {
   "cell_type": "markdown",
   "id": "97687d63",
   "metadata": {},
   "source": [
    "2c. Using double precision and your programming language of choice, determine the greatest $\\delta$ for\n",
    "which fl$\\left(\\sin\\left(\\frac{\\pi}{2}\\right)\\right) =$ fl$\\left(\\sin\\left(\\frac{\\pi}{2} + \\delta\\right)\\right)$. (Your answer should be correct to 3 significant figures.)"
   ]
  },
  {
   "cell_type": "code",
   "execution_count": 27,
   "id": "9ab18bf9",
   "metadata": {},
   "outputs": [
    {
     "name": "stdout",
     "output_type": "stream",
     "text": [
      "1.0536712280462266e-08\n",
      "1.0\n"
     ]
    }
   ],
   "source": [
    "# Binary search\n",
    "\n",
    "upper_bound = 1.0\n",
    "lower_bound = 0.0\n",
    "n = 1000\n",
    "for i in range(0, n):\n",
    "    mid = (upper_bound + lower_bound)/2.0\n",
    "    if np.sin(np.pi/2 + mid) == 1:\n",
    "        lower_bound = mid\n",
    "    else:\n",
    "        upper_bound = mid\n",
    "print(lower_bound)\n",
    "print(np.sin(np.pi/2 + lower_bound))"
   ]
  },
  {
   "cell_type": "markdown",
   "id": "af7c4322",
   "metadata": {},
   "source": [
    "Experimentally, increasing n beyond this point does not yield any different results. It is reasonable to believe, then, this algorithm has converged to the best possible value for $\\delta$, $1.0536712280462266\\cdot10^{-9}$."
   ]
  },
  {
   "cell_type": "markdown",
   "id": "22c7db93",
   "metadata": {},
   "source": [
    "3. Consider Newton’s method for finding the root $x^⋆$ of $f(x)$ in the case that $f'(x^⋆) = 0$. Show that the\n",
    "second-order convergence is lost. In particular, if $t$ is the smallest positive integer such that $f^{(t)}(x^*) \\neq 0$, show that Newton’s method converges linearly with constant $1 − 1/t$. (Hint: expand both $f$ and $f'$ in a\n",
    "Taylor series around $x^⋆$, and ensure both start with a term involving $f^{(t)}(x^⋆)$ as the first nonzero term)."
   ]
  },
  {
   "cell_type": "markdown",
   "id": "af348893",
   "metadata": {},
   "source": [
    "For the first part, we will do a proof by counterexample. Let $f(x) = x^2$, and $x_{n} = x_{n-1} - \\frac{f(x_{n-1})}{f'(x_{n-1})} = x_{n-1} - \\frac{x_{n-1}^2}{2 x_n{-1}} = \\frac{1}{2}x_{n-1}$, as per Newton's method. Clearly, $x^* = 0$ is the only fixed point and root of $f(x)$. Then\n",
    "$$\n",
    "\\begin{aligned}\n",
    "\\lim_{n\\to\\infty} \\frac{|x_n - x^*|}{|x_{n-1}-x^*|^2}\n",
    "&= \\lim_{n\\to\\infty} \\left| \\frac{\\frac{1}{2}x_{n-1}-x^*}{(x_{n-1}-x^*)^2} \\right| \\\\\n",
    "&= \\lim_{n\\to\\infty} \\frac{1}{2} \\left| \\frac{x_{n-1} - x^*}{(x_{n-1} - x^*)^2} - \\frac{x^*}{(x_{n-1} - x^*)^2} \\right| \\\\\n",
    "&= \\lim_{n\\to\\infty} \\frac{1}{2} \\left| \\frac{1}{x_{n-1} - x^*} - \\frac{x^*}{(x_{n-1}-x^*)^2} \\right| \\\\\n",
    "&= \\frac{1}{2} \\left| \\frac{1}{0} \\right| \\lt \\infty\n",
    "\\end{aligned}\n",
    "$$\n",
    "More broadly, for any $f(x)$, let $t$ be the smallest positive integer such that $f^{(t)}(x^*) \\neq 0$. Then\n",
    "$$\n",
    "\\begin{aligned}\n",
    "\\lim_{n\\to\\infty} \\frac{|x_n - x^*|}{|x_{n-1}-x^*|} &= \\lim_{n\\to\\infty} \\left| \\frac{x_{n-1}-\\frac{f(x_{n-1})}{f'(x_{n-1})}-x^*}{x_{n-1}-x^*} \\right| \\\\\n",
    "&= \\lim_{n\\to\\infty} \\left| \\frac{x_{n-1}-x^*}{x_{n-1}-x^*} - \\frac{\\frac{f(x_{n-1})}{f'(x_{n-1})}}{x_{n-1}-x^*} \\right| \\\\\n",
    "&= \\lim_{n\\to\\infty} \\left| 1 - \\frac{\\frac{f(x_{n-1})}{f'(x_{n-1})}}{x_{n-1}-x^*} \\right|\\\\\n",
    "&= \\lim_{n\\to\\infty} \\left| 1 - \\frac{f(x_{n-1})}{f'(x_{n-1})(x_{n-1}-x^*)} \\right|\n",
    "\\end{aligned}\n",
    "$$\n",
    "Using Taylor expansion around $x^*$, where $f(x^*) = 0$,\n",
    "$$\n",
    "\\begin{aligned}\n",
    "f(x_{n-1}) = \\sum^t_{i=1}\\frac{f^{(i)}(x^*)}{i!}(x_{n-1}-x^*)^i + \\frac{f^{(t+1)}(\\xi_{n-1})}{(t+1)!}(x_{n-1}-x^*)^{t+1}\n",
    "\\end{aligned}\n",
    "$$\n",
    "for some $\\xi_{n-1} \\in (x^*, x_{n-1})$. Differentiating,\n",
    "$$\n",
    "\\begin{aligned}\n",
    "f'(x_{n-1}) &= \\sum^t_{i=1}\\frac{f^{(i)}(x^*)}{(i-1)!}(x_{n-1}-x^*)^{i-1} + \\frac{f^{(t+1)}(\\xi_{n-1})}{t!}(x_{n-1}-x^*)^{t} \\\\\n",
    "f'(x_{n-1})(x_{n-1}-x^*) &= \\sum^t_{i=1}\\frac{f^{(i)}(x^*)}{(i-1)!}(x_{n-1}-x^*)^{i} + \\frac{f^{(t+1)}(\\xi_{n-1})}{t!}(x_{n-1}-x^*)^{t+1}\n",
    "\\end{aligned}\n",
    "$$\n",
    "Then\n",
    "$$\n",
    "\\begin{aligned}\n",
    "\\lim_{n\\to\\infty} \\frac{|x_n - x^*|}{|x_{n-1}-x^*|} &= \\lim_{n\\to\\infty} \\left| 1 - \\frac{f(x_{n-1})}{f'(x_{n-1})(x_{n-1}-x^*)} \\right|\\\\\n",
    "&= \\lim_{n\\to\\infty} \\left| 1 - \\frac{\\sum^t_{i=1}\\frac{f^{(i)}(x^*)}{i!}(x_{n-1}-x^*)^i + \\frac{f^{(t+1)}(\\xi_{n-1})}{(t+1)!}(x_{n-1}-x^*)^{t+1}}{\\sum^t_{i=1}\\frac{f^{(i)}(x^*)}{(i-1)!}(x_{n-1}-x^*)^{i} + \\frac{f^{(t+1)}(\\xi_{n-1})}{t!}(x_{n-1}-x^*)^{t+1}} \\right|\n",
    "\\end{aligned}\n",
    "$$\n",
    "Since this is the limit of a rational function, consider only the highest degree term for the limit.\n",
    "$$\n",
    "\\begin{aligned}\n",
    "\\lim_{n\\to\\infty} \\frac{|x_n - x^*|}{|x_{n-1}-x^*|} &= \\lim_{n\\to\\infty} \\left| 1 - \\frac{\\frac{f^{(t+1)}(\\xi_{n-1})}{(t+1)!}(x_{n-1}-x^*)^{t+1}}{\\frac{f^{(t+1)}(\\xi_{n-1})}{t!}(x_{n-1}-x^*)^{t+1}} \\right|\\\\\n",
    "&= \\left| 1 - \\frac{1}{t} \\right| \\\\\n",
    "&= 1 - \\frac{1}{t}\n",
    "\\end{aligned}\n",
    "$$"
   ]
  },
  {
   "cell_type": "markdown",
   "id": "634c318a",
   "metadata": {},
   "source": [
    "4. Implement the following methods for root finding in your language of choice:  \n",
    "• Fixed point iteration with $g(x) = x − \\alpha f(x)$.  \n",
    "• Newton’s method.  \n",
    "• The secant method.  \n",
    "• Steffensen’s method.  \n",
    "For the secant method, use one iteration of fixed point iteration to generate x1. For each function $f(x)$, plot the points $\\{(i, f (xi))\\}^{100}_{i=0}$ generated by all four methods on the same axes.  \n",
    "Run each algorithm for 100 iterations. Use your algorithms to find roots for the following functions:"
   ]
  },
  {
   "cell_type": "code",
   "execution_count": 35,
   "id": "0bce1314",
   "metadata": {},
   "outputs": [],
   "source": [
    "import numpy as np\n",
    "def fixed_point(f, a, x0, n):\n",
    "    ret = np.full(n+1, x0)\n",
    "    x = x0\n",
    "    for i in range(0, n):\n",
    "        x = x - a*f(x)\n",
    "        ret[i+1] = x\n",
    "    return ret\n",
    "\n",
    "def newtons_method(f, dfdx, x0, n):\n",
    "    ret = np.full(n+1, x0)\n",
    "    x = x0\n",
    "    for i in range(0, n):\n",
    "        x = x - f(x)/dfdx(x)\n",
    "        ret[i+1] = x\n",
    "    return ret\n",
    "\n",
    "def secant_method(f, a, x0, n):\n",
    "    ret = np.full(n+1, x0)\n",
    "    x1 = x0\n",
    "    x2 = x1 - a*f(x1)\n",
    "    ret[1] = x2\n",
    "    for i in range(1, n):\n",
    "        x = x2 - (x2-x1)*f(x2)/(f(x2)-f(x1))\n",
    "        x1 = x2\n",
    "        x2 = x\n",
    "        ret[i+1] = x\n",
    "        if (x1 == x2) and i+1 != n: # We have converged\n",
    "            ret[i+2:] = x\n",
    "            break\n",
    "    return ret\n",
    "\n",
    "def steffensens_method(f, x0, n):\n",
    "    ret = np.full(n+1, x0)\n",
    "    x = x0\n",
    "    for i in range(0, n):\n",
    "        denom = f(x + f(x)) / f(x) - 1\n",
    "        if denom == 0: # We have converged\n",
    "            ret[i+1:] = x\n",
    "            break\n",
    "        x = x - f(x)/denom\n",
    "        ret[i+1] = x\n",
    "    return ret"
   ]
  },
  {
   "cell_type": "markdown",
   "id": "6e46d043",
   "metadata": {},
   "source": [
    "4a. $f(x) = 10x^2 − 4x − 5$ with $x_0 = −1$, $\\alpha = −0.1$"
   ]
  },
  {
   "cell_type": "code",
   "execution_count": 36,
   "id": "03babd7d",
   "metadata": {},
   "outputs": [],
   "source": [
    "def f(x):\n",
    "    return 10*(x**2)-4*x-5\n",
    "\n",
    "def dfdx(x):\n",
    "    return 20*x-4"
   ]
  },
  {
   "cell_type": "code",
   "execution_count": 37,
   "id": "1896ac41",
   "metadata": {},
   "outputs": [
    {
     "data": {
      "text/plain": [
       "<matplotlib.legend.Legend at 0x7f788467dc40>"
      ]
     },
     "execution_count": 37,
     "metadata": {},
     "output_type": "execute_result"
    },
    {
     "data": {
      "image/png": "[encoded data removed]",
      "text/plain": [
       "<Figure size 640x480 with 1 Axes>"
      ]
     },
     "metadata": {},
     "output_type": "display_data"
    }
   ],
   "source": [
    "%matplotlib inline\n",
    "import matplotlib.pyplot as plt\n",
    "\n",
    "plt.title(\"4a\")\n",
    "plt.plot(np.arange(0, 101), fixed_point(f, -0.1, -1.0, 100), label=\"FPI\")\n",
    "plt.plot(np.arange(0, 101), newtons_method(f, dfdx, -1.0, 100), label=\"Newton's\")\n",
    "plt.plot(np.arange(0, 101), secant_method(f, -0.1, -1.0, 100), label=\"Secant\")\n",
    "plt.plot(np.arange(0, 101), steffensens_method(f, -1.0, 100), label=\"Steffensen's\")\n",
    "plt.legend()"
   ]
  },
  {
   "cell_type": "markdown",
   "id": "4b8d9cd0",
   "metadata": {},
   "source": [
    "4b. $f(x) = x^4 − x^3 − 3x^2 + 5x − 2$ with $x_0 = 1.3$, $\\alpha = 0.5$"
   ]
  },
  {
   "cell_type": "code",
   "execution_count": 38,
   "id": "8b5b6265",
   "metadata": {},
   "outputs": [],
   "source": [
    "def f(x):\n",
    "    return x**4-x**3-3*x**2+5*x-2\n",
    "\n",
    "def dfdx(x):\n",
    "    return 4*x**3-3*x**2-6*x+5"
   ]
  },
  {
   "cell_type": "code",
   "execution_count": 39,
   "id": "f2cc8e81",
   "metadata": {
    "scrolled": true
   },
   "outputs": [
    {
     "data": {
      "text/plain": [
       "<matplotlib.legend.Legend at 0x7f7884771220>"
      ]
     },
     "execution_count": 39,
     "metadata": {},
     "output_type": "execute_result"
    },
    {
     "data": {
      "image/png": "[encoded data removed]",
      "text/plain": [
       "<Figure size 640x480 with 1 Axes>"
      ]
     },
     "metadata": {},
     "output_type": "display_data"
    }
   ],
   "source": [
    "%matplotlib inline\n",
    "\n",
    "plt.title(\"4b\")\n",
    "plt.plot(np.arange(0, 101), fixed_point(f, 0.5, 1.3, 100), label=\"FPI\")\n",
    "plt.plot(np.arange(0, 101), newtons_method(f, dfdx, 1.3, 100), label=\"Newton's\")\n",
    "plt.plot(np.arange(0, 101), secant_method(f, 0.5, 1.3, 100), label=\"Secant\")\n",
    "plt.plot(np.arange(0, 101), steffensens_method(f, 1.3, 100), label=\"Steffensen's\")\n",
    "plt.legend()"
   ]
  },
  {
   "cell_type": "markdown",
   "id": "92a9ed22",
   "metadata": {},
   "source": [
    "5. Consider using fixed point iteration (FPI) $x_{n+1} = \\cos(x_n)$ to find the fixed point $x = \\cos(x)$. Show that FPI will converge for any $x_0 \\in \\mathbb{R}$."
   ]
  },
  {
   "cell_type": "markdown",
   "id": "4ac6962c",
   "metadata": {},
   "source": [
    "Suppose, for some $n\\in\\mathbb{N}$, $x_n \\in [0, \\cos(1)]$. Since $\\cos'(x) = -\\sin(x) < 1$ for $x\\in(0, \\cos(1))$, $\\cos:[0,\\cos(1)]\\to[-1, 1]$ is strictly decreasing, and so $\\cos([0,\\cos(1)])\\subset[\\cos(\\cos(1)),1]$. Further, since $\\cos(x)$ is continuous on $x\\in[0, \\cos(1)]$, it is also surjective on $[\\cos(\\cos(1)), 1]$ by the intermediate value theorem. Therefore, $\\cos([0,\\cos(1)]) = [\\cos(\\cos(1)),1]$. Then $\\cos(x_n)\\in[\\cos(1),1]$ (since it is a known fact that $\\cos(\\cos(1)) \\approx 0.8576 > 0.5403 \\approx \\cos(1)$).  \n",
    "On the other, consider $x_n \\in [\\cos(1), 1]$. Similarly to above, $\\cos:[\\cos(1),1]\\to[-1,1]$ is strictly decreasing, and so $\\cos([\\cos(1),1])\\subset[\\cos(1),\\cos(\\cos(1))]$. Since $\\cos(x)$ is continuous, by the intermediate value theorem, it is surjective over $[\\cos(1),\\cos(\\cos(1))]$. Then $\\cos([\\cos(1),1])=[\\cos(1),\\cos(\\cos(1))]\\subset[\\cos(1),1]$, so $\\cos(x_n)\\in[\\cos(1),1]$.  \n",
    "Let $x_0 \\in \\mathbb{R}$. By the properties of the cosine, $x_1 = \\cos(x_0) \\in [-1, 1]$. Since the cosine is an even function, $x_2 = \\cos(\\cos(x_0)) \\in [0, 1]$. Whether $x_2\\in[0,\\cos(1)]$ or $x_2\\in[\\cos(1),1]$, by above, $x_3 = \\cos(x_2) \\in [\\cos(1), 1]$. Inductively, for all $n \\geq 3$, $x_n\\in[\\cos(1),1]$.  \n",
    "For $x\\in[\\cos(1),1]$, $\\cos'(x) = -\\sin(x) \\neq 0$. Further, $\\max_{x\\in[\\cos(1),1]} |\\cos'(x)| = \\max_{x\\in[\\cos(1),1]} |\\sin(x)| = \\sin(1) < 1$. Then $\\cos:[\\cos(1),1]\\to[\\cos(1),1]$ is a contraction mapping with Lipschitz constant $\\sin(1)$, and its derivative is nonzero, any fixed point iteration converges to a fixed point $x^*\\in[\\cos(1),1]$. Then any sequence $\\{x_n\\}_{n=3}\\subset[\\cos(1),1]$ defined by $x_{n+1} = \\cos(x_n)$ converges to $x^*$. Therefore, any sequence $\\{x_n\\}_{n}\\subset\\mathbb{R}$ defined by $x_{n+1} = \\cos(x_n)$ converged to $x^*$."
   ]
  }
 ],
 "metadata": {
  "kernelspec": {
   "display_name": "Python 3 (ipykernel)",
   "language": "python",
   "name": "python3"
  },
  "language_info": {
   "codemirror_mode": {
    "name": "ipython",
    "version": 3
   },
   "file_extension": ".py",
   "mimetype": "text/x-python",
   "name": "python",
   "nbconvert_exporter": "python",
   "pygments_lexer": "ipython3",
   "version": "3.12.0"
  }
 },
 "nbformat": 4,
 "nbformat_minor": 5
}
